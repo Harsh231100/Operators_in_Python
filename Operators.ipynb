{
 "cells": [
  {
   "cell_type": "markdown",
   "id": "ce5b8caf",
   "metadata": {},
   "source": [
    "# Operators"
   ]
  },
  {
   "cell_type": "markdown",
   "id": "d3061f4a",
   "metadata": {},
   "source": [
    "* Operators are used to perform operations on variables and values."
   ]
  },
  {
   "cell_type": "markdown",
   "id": "1fe4d4a9",
   "metadata": {},
   "source": [
    "* OPERATORS: These are the special symbols. Eg- + , * , /, etc.\n",
    "* OPERAND: It is the value on which the operator is applied."
   ]
  },
  {
   "cell_type": "markdown",
   "id": "fe99ab08",
   "metadata": {},
   "source": [
    "Python divides the operators in the following groups:\n",
    "\n",
    "* Arithmetic operators\n",
    "* Assignment operators\n",
    "* Comparison operators\n",
    "* Logical operators\n",
    "* Identity operators\n",
    "* Membership operators\n",
    "* Bitwise operators\n"
   ]
  },
  {
   "cell_type": "markdown",
   "id": "15d99bbc",
   "metadata": {},
   "source": [
    "![](https://dotnettrickscloud.blob.core.windows.net/img/python/2820230302005431.webp)"
   ]
  },
  {
   "cell_type": "markdown",
   "id": "ec72de4d",
   "metadata": {},
   "source": [
    "## Arithmetic operators"
   ]
  },
  {
   "cell_type": "markdown",
   "id": "a699964d",
   "metadata": {},
   "source": [
    "* Arithmetic operators are used with numeric values to perform common mathematical operations."
   ]
  },
  {
   "cell_type": "markdown",
   "id": "c390cd51",
   "metadata": {},
   "source": [
    "![](https://www.devopsschool.com/blog/wp-content/uploads/2020/08/arithmetic-operation-in-python.png)"
   ]
  },
  {
   "cell_type": "code",
   "execution_count": 1,
   "id": "37fdb199",
   "metadata": {},
   "outputs": [
    {
     "name": "stdout",
     "output_type": "stream",
     "text": [
      "19\n",
      "11\n",
      "60\n",
      "3.75\n",
      "50625\n",
      "3\n",
      "3\n"
     ]
    }
   ],
   "source": [
    "x, y = 15, 4\n",
    "\n",
    "print(x + y) #Addition\n",
    "print(x - y) #substract\n",
    "print(x * y) #multiply\n",
    "print(x / y) #division\n",
    "print(x ** y) #power\n",
    "print(x // y) #floor division\n",
    "print(x % y) #modulus"
   ]
  },
  {
   "cell_type": "markdown",
   "id": "0222ef42",
   "metadata": {},
   "source": [
    "## Comparison operators"
   ]
  },
  {
   "cell_type": "markdown",
   "id": "81fbe51c",
   "metadata": {},
   "source": [
    "* Comparision operators are used for comparing the values. It either returns True or False according to the condition. These operators are also known as Relation Operators."
   ]
  },
  {
   "cell_type": "markdown",
   "id": "9702c44f",
   "metadata": {},
   "source": [
    "![](https://media.licdn.com/dms/image/D5622AQFZq-7OKxC7zw/feedshare-shrink_2048_1536/0/1693955814261?e=1699488000&v=beta&t=icnOzsfxpP6sTcVwBcpATHy0ijkhOwE8sbRWE7QG1rE)"
   ]
  },
  {
   "cell_type": "code",
   "execution_count": 2,
   "id": "7a90d52b",
   "metadata": {},
   "outputs": [
    {
     "name": "stdout",
     "output_type": "stream",
     "text": [
      "False\n",
      "True\n",
      "False\n",
      "True\n",
      "False\n",
      "True\n"
     ]
    }
   ],
   "source": [
    "x , y = 10, 20\n",
    "print(x > y)\n",
    "print(x < y)\n",
    "print(x >= y)\n",
    "print(x <= y)\n",
    "print(x == y)\n",
    "print(x != y)"
   ]
  },
  {
   "cell_type": "code",
   "execution_count": 3,
   "id": "23680ebf",
   "metadata": {},
   "outputs": [
    {
     "data": {
      "text/plain": [
       "(True, True)"
      ]
     },
     "execution_count": 3,
     "metadata": {},
     "output_type": "execute_result"
    }
   ],
   "source": [
    "a, b, c = [1,2,3], [1,2,3], [4,5]\n",
    "\n",
    "a == b, a != c"
   ]
  },
  {
   "cell_type": "code",
   "execution_count": 4,
   "id": "a55a7c87",
   "metadata": {},
   "outputs": [
    {
     "data": {
      "text/plain": [
       "True"
      ]
     },
     "execution_count": 4,
     "metadata": {},
     "output_type": "execute_result"
    }
   ],
   "source": [
    "'string' == 'string'"
   ]
  },
  {
   "cell_type": "markdown",
   "id": "c10363c1",
   "metadata": {},
   "source": [
    "## Logical operators"
   ]
  },
  {
   "cell_type": "markdown",
   "id": "b41403ef",
   "metadata": {},
   "source": [
    "* Logical operators are used to combine conditional statements."
   ]
  },
  {
   "cell_type": "markdown",
   "id": "a153ad59",
   "metadata": {},
   "source": [
    "![](https://1.bp.blogspot.com/-k27I3cNB6zE/XYTAZv3C07I/AAAAAAAAAy0/KobVTHHhCJUVpg7D19HhI4ddrh0IU5GKgCLcBGAsYHQ/s1600/LogicalOperators.png)"
   ]
  },
  {
   "cell_type": "code",
   "execution_count": 6,
   "id": "58909142",
   "metadata": {},
   "outputs": [
    {
     "name": "stdout",
     "output_type": "stream",
     "text": [
      "False True\n",
      "True True False\n",
      "False\n"
     ]
    }
   ],
   "source": [
    "x,y,z =True, False, True\n",
    "\n",
    "print(x and y, x and z)\n",
    "print(x or y, x or z, y or y)\n",
    "print(not x)"
   ]
  },
  {
   "cell_type": "markdown",
   "id": "29ca1c2a",
   "metadata": {},
   "source": [
    "## Identity operators"
   ]
  },
  {
   "cell_type": "markdown",
   "id": "859d8efa",
   "metadata": {},
   "source": [
    "* Identity operators are used to compare the objects, not if they are equal, but if they are actually the same object, with the same memory location."
   ]
  },
  {
   "cell_type": "markdown",
   "id": "4d8cb2a1",
   "metadata": {},
   "source": [
    "![](https://i0.wp.com/makemeanalyst.com/wp-content/uploads/2017/06/Identity-Operators-Python.png?resize=532%2C136)"
   ]
  },
  {
   "cell_type": "code",
   "execution_count": 7,
   "id": "81a82a43",
   "metadata": {},
   "outputs": [],
   "source": [
    "inta, intb = 250, 250\n",
    "lista, listb = [1,2,3],[1,2,3]\n",
    "listc =  lista\n",
    "stra, strb = 'string','string'\n",
    "strc = stra"
   ]
  },
  {
   "cell_type": "code",
   "execution_count": 11,
   "id": "6fd8f94c",
   "metadata": {},
   "outputs": [
    {
     "name": "stdout",
     "output_type": "stream",
     "text": [
      "True False True\n"
     ]
    }
   ],
   "source": [
    "print(lista == listb, lista is listb, lista is listc)"
   ]
  },
  {
   "cell_type": "code",
   "execution_count": 12,
   "id": "ae03a587",
   "metadata": {},
   "outputs": [
    {
     "name": "stdout",
     "output_type": "stream",
     "text": [
      "2992790125312 2992790123072 2992790125312\n"
     ]
    }
   ],
   "source": [
    "print(id(lista),id(listb),id(listc))"
   ]
  },
  {
   "cell_type": "code",
   "execution_count": 13,
   "id": "9c4b3d08",
   "metadata": {},
   "outputs": [
    {
     "name": "stdout",
     "output_type": "stream",
     "text": [
      "True\n"
     ]
    }
   ],
   "source": [
    "print(lista is not listb)"
   ]
  },
  {
   "cell_type": "code",
   "execution_count": 14,
   "id": "9696c398",
   "metadata": {},
   "outputs": [
    {
     "name": "stdout",
     "output_type": "stream",
     "text": [
      "True\n"
     ]
    }
   ],
   "source": [
    "print(inta is intb)"
   ]
  },
  {
   "cell_type": "code",
   "execution_count": 15,
   "id": "6aee6499",
   "metadata": {},
   "outputs": [
    {
     "name": "stdout",
     "output_type": "stream",
     "text": [
      "True\n"
     ]
    }
   ],
   "source": [
    "inta , intb = 5000, 5000\n",
    "print(inta is intb)"
   ]
  },
  {
   "cell_type": "markdown",
   "id": "2f4a71eb",
   "metadata": {},
   "source": [
    "## Membership operators"
   ]
  },
  {
   "cell_type": "markdown",
   "id": "b9c8b958",
   "metadata": {},
   "source": [
    "* Membership operators are used to test if a sequence is presented in an object."
   ]
  },
  {
   "cell_type": "markdown",
   "id": "c5a6196c",
   "metadata": {},
   "source": [
    "![](https://www.besanttechnologies.com/wp-content/uploads/2019/05/membership-operators.png)"
   ]
  },
  {
   "cell_type": "code",
   "execution_count": 18,
   "id": "ba880eb4",
   "metadata": {},
   "outputs": [
    {
     "name": "stdout",
     "output_type": "stream",
     "text": [
      "True\n",
      "True\n"
     ]
    }
   ],
   "source": [
    "x, y = [10,11,15],'string'\n",
    "print(11 in x)\n",
    "print('z' not in y)"
   ]
  },
  {
   "cell_type": "markdown",
   "id": "59dcfbd6",
   "metadata": {},
   "source": [
    "## Bitwise operators"
   ]
  },
  {
   "cell_type": "markdown",
   "id": "05469c4f",
   "metadata": {},
   "source": [
    "* Bitwise operators are used to compare (binary) numbers."
   ]
  },
  {
   "cell_type": "markdown",
   "id": "98b148e2",
   "metadata": {},
   "source": [
    "![](https://www.devopsschool.com/blog/wp-content/uploads/2020/08/bitwise-opeartor-in-python.png)"
   ]
  },
  {
   "cell_type": "code",
   "execution_count": 19,
   "id": "bcd52caf",
   "metadata": {},
   "outputs": [
    {
     "name": "stdout",
     "output_type": "stream",
     "text": [
      "6\n",
      "7\n",
      "1\n",
      "-7\n",
      "768\n",
      "0\n"
     ]
    }
   ],
   "source": [
    "x,y=6,7\n",
    "print(x&y) #bitwise AND\n",
    "print(x|y) #bitwise OR\n",
    "print(x^y) #bitwise XOR\n",
    "print(~x) #bitwise1's complement\n",
    "print(x<<y) #left-shift\n",
    "print(x>>y) #Right-shift"
   ]
  },
  {
   "cell_type": "markdown",
   "id": "dbce1617",
   "metadata": {},
   "source": [
    "## Assignment operators"
   ]
  },
  {
   "cell_type": "markdown",
   "id": "864b00d1",
   "metadata": {},
   "source": [
    "* Assignment operators are used to assign values to variables."
   ]
  },
  {
   "cell_type": "markdown",
   "id": "57f2f151",
   "metadata": {},
   "source": [
    "![](https://studyopedia.com/wp-content/uploads/2020/07/Python-Assignment-Operators.png)"
   ]
  },
  {
   "cell_type": "code",
   "execution_count": 23,
   "id": "30963d59",
   "metadata": {},
   "outputs": [
    {
     "name": "stdout",
     "output_type": "stream",
     "text": [
      "15\n"
     ]
    }
   ],
   "source": [
    "# For Add and assignment\n",
    "\n",
    "a = 10\n",
    "b = 5\n",
    "\n",
    "a += b   # a = a + b \n",
    "\n",
    "print(a)"
   ]
  },
  {
   "cell_type": "code",
   "execution_count": 24,
   "id": "0deee7a4",
   "metadata": {},
   "outputs": [
    {
     "name": "stdout",
     "output_type": "stream",
     "text": [
      "5\n"
     ]
    }
   ],
   "source": [
    "# For Subtract and assignment\n",
    "\n",
    "a = 10\n",
    "b = 5\n",
    "\n",
    "a -= b   # a = a - b \n",
    "\n",
    "print(a)"
   ]
  },
  {
   "cell_type": "code",
   "execution_count": 25,
   "id": "df374eab",
   "metadata": {},
   "outputs": [
    {
     "name": "stdout",
     "output_type": "stream",
     "text": [
      "50\n"
     ]
    }
   ],
   "source": [
    "# For Multiply and assignment\n",
    "\n",
    "a = 10\n",
    "b = 5\n",
    "\n",
    "a *= b   # a = a * b \n",
    "\n",
    "print(a)"
   ]
  },
  {
   "cell_type": "code",
   "execution_count": 26,
   "id": "4af1fedd",
   "metadata": {},
   "outputs": [
    {
     "name": "stdout",
     "output_type": "stream",
     "text": [
      "2.0\n"
     ]
    }
   ],
   "source": [
    "# For Divide and assignment\n",
    "\n",
    "a = 10\n",
    "b = 5\n",
    "\n",
    "a /= b   # a = a / b \n",
    "\n",
    "print(a)"
   ]
  },
  {
   "cell_type": "code",
   "execution_count": 27,
   "id": "dd009d6e",
   "metadata": {},
   "outputs": [
    {
     "name": "stdout",
     "output_type": "stream",
     "text": [
      "0\n"
     ]
    }
   ],
   "source": [
    "# For Modulus and assignment\n",
    "\n",
    "a = 10\n",
    "b = 5\n",
    "\n",
    "a %= b   # a = a % b \n",
    "\n",
    "print(a)"
   ]
  },
  {
   "cell_type": "code",
   "execution_count": null,
   "id": "af0ae124",
   "metadata": {},
   "outputs": [],
   "source": []
  }
 ],
 "metadata": {
  "kernelspec": {
   "display_name": "Python 3 (ipykernel)",
   "language": "python",
   "name": "python3"
  },
  "language_info": {
   "codemirror_mode": {
    "name": "ipython",
    "version": 3
   },
   "file_extension": ".py",
   "mimetype": "text/x-python",
   "name": "python",
   "nbconvert_exporter": "python",
   "pygments_lexer": "ipython3",
   "version": "3.11.5"
  }
 },
 "nbformat": 4,
 "nbformat_minor": 5
}
